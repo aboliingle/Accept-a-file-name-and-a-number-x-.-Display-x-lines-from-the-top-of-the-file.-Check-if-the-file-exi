{
  "nbformat": 4,
  "nbformat_minor": 0,
  "metadata": {
    "colab": {
      "name": "Pythontask.ipynb",
      "provenance": [],
      "collapsed_sections": []
    },
    "kernelspec": {
      "name": "python3",
      "display_name": "Python 3"
    },
    "language_info": {
      "name": "python"
    }
  },
  "cells": [
    {
      "cell_type": "markdown",
      "metadata": {
        "id": "FqAm16-R-Kqg"
      },
      "source": [
        "# **Accept a file name and a number (x). Display x lines from the top of the file.  Check if the file exists and is readable. The value of x should not exceed the total number of lines in the files. Display suitable messages in case an error is encountered.**"
      ]
    },
    {
      "cell_type": "code",
      "metadata": {
        "id": "neMO6VK4lFcs"
      },
      "source": [
        "fp = open(\"data.txt\", 'w')  #open file to write the content in the file."
      ],
      "execution_count": null,
      "outputs": []
    },
    {
      "cell_type": "code",
      "metadata": {
        "id": "zvvU6ci5lPhB"
      },
      "source": [
        "# Content of the file\n",
        "for i in range(10):\n",
        "     fp.write(\"This is line %d\\r\\n\" % (i+1))\n",
        "fp.close()                  # close the file.\n"
      ],
      "execution_count": null,
      "outputs": []
    },
    {
      "cell_type": "code",
      "metadata": {
        "colab": {
          "base_uri": "https://localhost:8080/"
        },
        "id": "431vI13zmcLX",
        "outputId": "697e42e8-7ee4-49fb-8e0c-b5ab5c77aa2b"
      },
      "source": [
        "# Read line by line from the file\n",
        "fp = open(\"data.txt\")             # fp is file pointer.\n",
        "lines = fp.readlines()\n",
        "for line in lines:\n",
        "  print(line)\n",
        "fp.close()\n"
      ],
      "execution_count": null,
      "outputs": [
        {
          "output_type": "stream",
          "text": [
            "This is line 1\n",
            "\n",
            "This is line 2\n",
            "\n",
            "This is line 3\n",
            "\n",
            "This is line 4\n",
            "\n",
            "This is line 5\n",
            "\n",
            "This is line 6\n",
            "\n",
            "This is line 7\n",
            "\n",
            "This is line 8\n",
            "\n",
            "This is line 9\n",
            "\n",
            "This is line 10\n",
            "\n"
          ],
          "name": "stdout"
        }
      ]
    },
    {
      "cell_type": "code",
      "metadata": {
        "colab": {
          "base_uri": "https://localhost:8080/"
        },
        "id": "dltamTZ3oMB1",
        "outputId": "e891141e-62d2-44c0-e95f-ec715739ab2e"
      },
      "source": [
        "#Check if the file exists \n",
        "\n",
        "import os.path\n",
        "\n",
        "print(\"case 1\")\n",
        "if os.path.isfile('data.txt'):\n",
        "    print (\"File exist\")\n",
        "else:\n",
        "    print (\"File not exist\")\n",
        "\n",
        "print(\"case 2\")\n",
        "if os.path.isfile('ZXC.txt'):\n",
        "    print (\"File exist\")\n",
        "else:\n",
        "    print (\"File not exist\")\n"
      ],
      "execution_count": null,
      "outputs": [
        {
          "output_type": "stream",
          "text": [
            "case 1\n",
            "File exist\n",
            "case 2\n",
            "File not exist\n"
          ],
          "name": "stdout"
        }
      ]
    },
    {
      "cell_type": "markdown",
      "metadata": {
        "id": "MKMJUFw7-FwS"
      },
      "source": [
        ""
      ]
    },
    {
      "cell_type": "code",
      "metadata": {
        "colab": {
          "base_uri": "https://localhost:8080/"
        },
        "id": "X5Aa_6akpw5p",
        "outputId": "6ec9d416-cd40-4775-d96b-4ca491a7207b"
      },
      "source": [
        "#Check if the file is readable \n",
        "\n",
        "print(\"type 1\")\n",
        "fp = open(\"data.txt\", \"r\")\n",
        "print(fp.readable())\n",
        "\n",
        "print(\"type 2\")\n",
        "fp = open(\"data.txt\")\n",
        "print(fp.readable())\n",
        "\n",
        "fp.close()"
      ],
      "execution_count": null,
      "outputs": [
        {
          "output_type": "stream",
          "text": [
            "type 1\n",
            "True\n",
            "type 2\n",
            "True\n"
          ],
          "name": "stdout"
        }
      ]
    },
    {
      "cell_type": "code",
      "metadata": {
        "colab": {
          "base_uri": "https://localhost:8080/"
        },
        "id": "6wfqFWeX1rMs",
        "outputId": "55602d69-e209-47cf-9246-f8b4d1cafb86"
      },
      "source": [
        "# Print the number of lines in a file\n",
        "fp = open(\"data.txt\", \"r\")\n",
        "line_count = len(lines)\n",
        "fp. close()\n",
        "print(line_count)"
      ],
      "execution_count": null,
      "outputs": [
        {
          "output_type": "stream",
          "text": [
            "10\n"
          ],
          "name": "stdout"
        }
      ]
    },
    {
      "cell_type": "markdown",
      "metadata": {
        "id": "JuRL26xq88cW"
      },
      "source": [
        "# **The value of x should not exceed the total number of lines in the files. Display suitable messages in case an error is encountered.**"
      ]
    },
    {
      "cell_type": "code",
      "metadata": {
        "colab": {
          "base_uri": "https://localhost:8080/"
        },
        "id": "VTTJg18P2i1o",
        "outputId": "f5b13d2b-fb9b-46ef-ca52-f013705ffddf"
      },
      "source": [
        "#case 1\n",
        "\n",
        "x = 8\n",
        "if line_count > x:\n",
        "  print(\"The value of x not exceed the number of lines in file\")\n",
        "elif line_count < x:\n",
        "  print(\"The value of x exceed the number of lines in file\")\n",
        "else:\n",
        "  print(\"Error occured Try again with new value of x\")\n",
        "\n"
      ],
      "execution_count": null,
      "outputs": [
        {
          "output_type": "stream",
          "text": [
            "The value of x not exceed the number of lines in file\n"
          ],
          "name": "stdout"
        }
      ]
    },
    {
      "cell_type": "code",
      "metadata": {
        "colab": {
          "base_uri": "https://localhost:8080/"
        },
        "id": "s3belf4s49Je",
        "outputId": "bc49b1bb-f3e4-41bb-a50d-3d4ab1fbd2ae"
      },
      "source": [
        "#case 2\n",
        "\n",
        "x = 15\n",
        "if line_count > x:\n",
        "  print(\"The value of x not exceed the number of lines in file\")\n",
        "elif line_count < x:\n",
        "  print(\"The value of x exceed the number of lines in file\")\n",
        "else:\n",
        "  print(\"Error occured Try again with new value of x\")\n",
        "\n",
        "\n",
        "   "
      ],
      "execution_count": null,
      "outputs": [
        {
          "output_type": "stream",
          "text": [
            "The value of x exceed the number of lines in file\n"
          ],
          "name": "stdout"
        }
      ]
    },
    {
      "cell_type": "code",
      "metadata": {
        "colab": {
          "base_uri": "https://localhost:8080/"
        },
        "id": "2cwjCi5Z8kuV",
        "outputId": "cb04ad34-9841-4cf1-d405-44673d4c027a"
      },
      "source": [
        "#case 3\n",
        "\n",
        "x = 10\n",
        "if line_count > x:\n",
        "  print(\"The value of x not exceed the number of lines in file\")\n",
        "elif line_count < x:\n",
        "  print(\"The value of x exceed the number of lines in file\")\n",
        "else:\n",
        "  print(\"Error occured Try again with new value of x\")\n",
        "\n"
      ],
      "execution_count": null,
      "outputs": [
        {
          "output_type": "stream",
          "text": [
            "Error occured Try again with new value of x\n"
          ],
          "name": "stdout"
        }
      ]
    }
  ]
}